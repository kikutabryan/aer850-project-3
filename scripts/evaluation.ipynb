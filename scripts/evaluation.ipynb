{
 "cells": [
  {
   "cell_type": "code",
   "execution_count": 11,
   "metadata": {},
   "outputs": [],
   "source": [
    "from ultralytics import YOLO\n",
    "from ultralytics.utils.metrics import ConfusionMatrix\n",
    "import matplotlib.pyplot as plt\n",
    "import cv2 as cv\n",
    "import os"
   ]
  },
  {
   "cell_type": "code",
   "execution_count": 12,
   "metadata": {},
   "outputs": [],
   "source": [
    "# Specify device\n",
    "# device = 0\n",
    "device = \"mps\"\n",
    "# device = \"cuda\""
   ]
  },
  {
   "cell_type": "code",
   "execution_count": 13,
   "metadata": {},
   "outputs": [],
   "source": [
    "# Set up path to model\n",
    "weights_dir = os.path.join(\"..\", \"runs\", \"detect\", \"train\", \"weights\")\n",
    "weights_name = \"best.pt\"\n",
    "weights_path = os.path.join(weights_dir, weights_name)\n",
    "\n",
    "# Set up yaml file name path\n",
    "yaml_dir = os.path.join(\"..\", \"data\")\n",
    "yaml_name = \"data.yaml\"\n",
    "yaml_path = os.path.join(yaml_dir, yaml_name)"
   ]
  },
  {
   "cell_type": "code",
   "execution_count": 14,
   "metadata": {},
   "outputs": [],
   "source": [
    "# Load the model\n",
    "model = YOLO(weights_path)"
   ]
  },
  {
   "cell_type": "code",
   "execution_count": 15,
   "metadata": {},
   "outputs": [],
   "source": [
    "# Set up image path\n",
    "image_dir = os.path.join(\"..\", \"data\", \"evaluation\")\n",
    "image_names = [\"ardmega.jpg\", \"arduno.jpg\", \"rasppi.jpg\"]\n",
    "image_paths = [os.path.join(image_dir, image_name) for image_name in image_names]\n",
    "\n",
    "# Set up save folder\n",
    "results_path = os.path.join(\"..\", \"results\")"
   ]
  },
  {
   "cell_type": "code",
   "execution_count": 16,
   "metadata": {},
   "outputs": [
    {
     "name": "stdout",
     "output_type": "stream",
     "text": [
      "\n",
      "image 1/1 /Users/bryankikuta/Documents/University/AER850/projects/aer850-project-3/scripts/../data/evaluation/ardmega.jpg: 832x928 1 Button, 10 Capacitors, 8 Connectors, 1 Electrolytic Capacitor, 6 ICs, 19 Resistors, 94.1ms\n",
      "Speed: 3.8ms preprocess, 94.1ms inference, 0.5ms postprocess per image at shape (1, 3, 832, 928)\n",
      "Results saved to \u001b[1m../results/Arduino Mega\u001b[0m\n",
      "\n",
      "image 1/1 /Users/bryankikuta/Documents/University/AER850/projects/aer850-project-3/scripts/../data/evaluation/arduno.jpg: 640x928 13 Capacitors, 12 Connectors, 2 Electrolytic Capacitors, 5 ICs, 4 Leds, 20 Resistors, 1 Transistor, 65.6ms\n",
      "Speed: 2.3ms preprocess, 65.6ms inference, 0.7ms postprocess per image at shape (1, 3, 640, 928)\n",
      "Results saved to \u001b[1m../results/Arduino Uno\u001b[0m\n",
      "\n",
      "image 1/1 /Users/bryankikuta/Documents/University/AER850/projects/aer850-project-3/scripts/../data/evaluation/rasppi.jpg: 640x928 13 Capacitors, 9 Connectors, 1 Electrolytic Capacitor, 9 ICs, 2 Inductors, 2 Leds, 13 Resistors, 68.3ms\n",
      "Speed: 2.7ms preprocess, 68.3ms inference, 0.4ms postprocess per image at shape (1, 3, 640, 928)\n",
      "Results saved to \u001b[1m../results/Raspberry Pi\u001b[0m\n"
     ]
    }
   ],
   "source": [
    "# Prediction for Arduino Mega\n",
    "results = model.predict(\n",
    "    source=image_paths[0],\n",
    "    name=\"Arduino Mega\",\n",
    "    save=True,\n",
    "    project=results_path,\n",
    "    conf=0.25,\n",
    "    line_width=5,\n",
    ")\n",
    "\n",
    "# Prediction for Arduino Uno\n",
    "results = model.predict(\n",
    "    source=image_paths[1],\n",
    "    name=\"Arduino Uno\",\n",
    "    save=True,\n",
    "    project=results_path,\n",
    "    conf=0.25,\n",
    "    line_width=2,\n",
    ")\n",
    "\n",
    "# Prediction for Raspberry Pi\n",
    "results = model.predict(\n",
    "    source=image_paths[2],\n",
    "    name=\"Raspberry Pi\",\n",
    "    save=True,\n",
    "    project=results_path,\n",
    "    conf=0.25,\n",
    "    line_width=5,\n",
    ")"
   ]
  },
  {
   "cell_type": "code",
   "execution_count": 10,
   "metadata": {},
   "outputs": [
    {
     "name": "stdout",
     "output_type": "stream",
     "text": [
      "Ultralytics 8.3.48 🚀 Python-3.12.6 torch-2.5.1 MPS (Apple M3)\n"
     ]
    },
    {
     "name": "stderr",
     "output_type": "stream",
     "text": [
      "\u001b[34m\u001b[1mval: \u001b[0mScanning /Users/bryankikuta/Documents/University/AER850/projects/aer850-project-3/data/valid/labels.cache... 105 images, 0 backgrounds, 0 corrupt: 100%|██████████| 105/105 [00:00<?, ?it/s]"
     ]
    },
    {
     "name": "stdout",
     "output_type": "stream",
     "text": [
      "WARNING ⚠️ Box and segment counts should be equal, but got len(segments) = 26, len(boxes) = 19108. To resolve this only boxes will be used and all segments will be removed. To avoid this please supply either a detect or segment dataset, not a detect-segment mixed dataset.\n"
     ]
    },
    {
     "name": "stderr",
     "output_type": "stream",
     "text": [
      "\n",
      "                 Class     Images  Instances      Box(P          R      mAP50  mAP50-95): 100%|██████████| 7/7 [00:20<00:00,  3.00s/it]\n"
     ]
    },
    {
     "name": "stdout",
     "output_type": "stream",
     "text": [
      "                   all        105      19108      0.847      0.704      0.772      0.581\n",
      "                Button         14         45      0.926          1      0.995      0.851\n",
      "             Capacitor        104       7251      0.826      0.436      0.604      0.332\n",
      "             Connector         76        659      0.866      0.915      0.924      0.734\n",
      "                 Diode         11         53      0.848      0.453      0.553      0.435\n",
      "Electrolytic Capacitor         15        160      0.921      0.953      0.967      0.741\n",
      "                    IC         95       1322       0.88      0.922      0.948      0.738\n",
      "              Inductor         12         45      0.825      0.711       0.79      0.651\n",
      "                   Led         18        127      0.816      0.748      0.837      0.616\n",
      "                  Pads         20        143      0.702      0.245      0.336       0.23\n",
      "                  Pins         10        151      0.775      0.841      0.866      0.646\n",
      "              Resistor        104       8600      0.771      0.321      0.493      0.249\n",
      "                Switch         11         28      0.993      0.964      0.969      0.866\n",
      "            Transistor         58        524      0.864      0.645       0.75      0.465\n",
      "Speed: 3.8ms preprocess, 37.5ms inference, 0.0ms loss, 11.6ms postprocess per image\n",
      "Results saved to \u001b[1m/Users/bryankikuta/Documents/University/AER850/projects/aer850-project-3/runs/detect/val\u001b[0m\n"
     ]
    }
   ],
   "source": [
    "# Evaluate the model on the test set\n",
    "metrics = model.val(\n",
    "    data=yaml_path,\n",
    "    device=device\n",
    ")"
   ]
  },
  {
   "cell_type": "code",
   "execution_count": 9,
   "metadata": {},
   "outputs": [],
   "source": [
    "matrix_dir = os.path.join(\"..\", \"matrices\")\n",
    "names = [\n",
    "    \"Button\",\n",
    "    \"Capacitor\",\n",
    "    \"Connector\",\n",
    "    \"Diode\",\n",
    "    \"Electrolytic Capacitor\",\n",
    "    \"IC\",\n",
    "    \"Inductor\",\n",
    "    \"Led\",\n",
    "    \"Pads\",\n",
    "    \"Pins\",\n",
    "    \"Resistor\",\n",
    "    \"Switch\",\n",
    "    \"Transistor\",\n",
    "]\n",
    "metrics.confusion_matrix.plot(\n",
    "    normalize=True, names=names, save_dir=matrix_dir, on_plot=None\n",
    ")"
   ]
  }
 ],
 "metadata": {
  "kernelspec": {
   "display_name": ".venv",
   "language": "python",
   "name": "python3"
  },
  "language_info": {
   "codemirror_mode": {
    "name": "ipython",
    "version": 3
   },
   "file_extension": ".py",
   "mimetype": "text/x-python",
   "name": "python",
   "nbconvert_exporter": "python",
   "pygments_lexer": "ipython3",
   "version": "3.12.6"
  }
 },
 "nbformat": 4,
 "nbformat_minor": 2
}
